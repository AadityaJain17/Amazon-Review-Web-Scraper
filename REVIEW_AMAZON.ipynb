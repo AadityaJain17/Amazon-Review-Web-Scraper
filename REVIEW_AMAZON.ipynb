{
  "nbformat": 4,
  "nbformat_minor": 0,
  "metadata": {
    "colab": {
      "provenance": []
    },
    "kernelspec": {
      "name": "python3",
      "display_name": "Python 3"
    }
  },
  "cells": [
    {
      "cell_type": "code",
      "metadata": {
        "id": "vBF3NfKWkT2W"
      },
      "source": [
        "import requests\n",
        "from bs4 import BeautifulSoup"
      ],
      "execution_count": 1,
      "outputs": []
    },
    {
      "cell_type": "code",
      "metadata": {
        "colab": {
          "base_uri": "https://localhost:8080/"
        },
        "id": "K2E9-HemkZeO",
        "outputId": "b187fab5-0abb-4106-c4c9-dfe1f5fc2414"
      },
      "source": [
        "url=\"https://www.amazon.in/Apple-iPhone-13-128GB-Starlight/product-reviews/B09G9D8KRQ/ref=cm_cr_dp_d_show_all_btm?ie=UTF8&reviewerType=all_reviews\"\n",
        "code = requests.get(url)\n",
        "code"
      ],
      "execution_count": 2,
      "outputs": [
        {
          "output_type": "execute_result",
          "data": {
            "text/plain": [
              "<Response [503]>"
            ]
          },
          "metadata": {},
          "execution_count": 2
        }
      ]
    },
    {
      "cell_type": "code",
      "metadata": {
        "id": "a7ByYLR3lfcw",
        "outputId": "20513978-ad88-4a47-e679-2ec897d494f4",
        "colab": {
          "base_uri": "https://localhost:8080/"
        }
      },
      "source": [
        "soup = BeautifulSoup(code.content,'html.parser')\n",
        "print(soup.prettify())"
      ],
      "execution_count": 3,
      "outputs": [
        {
          "output_type": "stream",
          "name": "stdout",
          "text": [
            "<!DOCTYPE html>\n",
            "<!--[if lt IE 7]> <html lang=\"en-us\" class=\"a-no-js a-lt-ie9 a-lt-ie8 a-lt-ie7\"> <![endif]-->\n",
            "<!--[if IE 7]>    <html lang=\"en-us\" class=\"a-no-js a-lt-ie9 a-lt-ie8\"> <![endif]-->\n",
            "<!--[if IE 8]>    <html lang=\"en-us\" class=\"a-no-js a-lt-ie9\"> <![endif]-->\n",
            "<!--[if gt IE 8]><!-->\n",
            "<html class=\"a-no-js\" lang=\"en-us\">\n",
            " <!--<![endif]-->\n",
            " <head>\n",
            "  <meta content=\"text/html; charset=utf-8\" http-equiv=\"content-type\"/>\n",
            "  <meta charset=\"utf-8\"/>\n",
            "  <meta content=\"IE=edge,chrome=1\" http-equiv=\"X-UA-Compatible\"/>\n",
            "  <title dir=\"ltr\">\n",
            "   Amazon.in\n",
            "  </title>\n",
            "  <meta content=\"width=device-width\" name=\"viewport\"/>\n",
            "  <link href=\"https://images-na.ssl-images-amazon.com/images/G/01/AUIClients/AmazonUI-3c913031596ca78a3768f4e934b1cc02ce238101.secure.min._V1_.css\" rel=\"stylesheet\"/>\n",
            "  <script>\n",
            "   if (true === true) {\n",
            "    var ue_t0 = (+ new Date()),\n",
            "        ue_csm = window,\n",
            "        ue = { t0: ue_t0, d: function() { return (+new Date() - ue_t0); } },\n",
            "        ue_furl = \"fls-eu.amazon.in\",\n",
            "        ue_mid = \"A21TJRUUN4KGV\",\n",
            "        ue_sid = (document.cookie.match(/session-id=([0-9-]+)/) || [])[1],\n",
            "        ue_sn = \"opfcaptcha.amazon.in\",\n",
            "        ue_id = '6RPBFAGV2RFKMEN5MJKS';\n",
            "}\n",
            "  </script>\n",
            " </head>\n",
            " <body>\n",
            "  <!--\n",
            "        To discuss automated access to Amazon data please contact api-services-support@amazon.com.\n",
            "        For information about migrating to our APIs refer to our Marketplace APIs at https://developer.amazonservices.in/ref=rm_c_sv, or our Product Advertising API at https://affiliate-program.amazon.in/gp/advertising/api/detail/main.html/ref=rm_c_ac for advertising use cases.\n",
            "-->\n",
            "  <!--\n",
            "Correios.DoNotSend\n",
            "-->\n",
            "  <div class=\"a-container a-padding-double-large\" style=\"min-width:350px;padding:44px 0 !important\">\n",
            "   <div class=\"a-row a-spacing-double-large\" style=\"width: 350px; margin: 0 auto\">\n",
            "    <div class=\"a-row a-spacing-medium a-text-center\">\n",
            "     <i class=\"a-icon a-logo\">\n",
            "     </i>\n",
            "    </div>\n",
            "    <div class=\"a-box a-alert a-alert-info a-spacing-base\">\n",
            "     <div class=\"a-box-inner\">\n",
            "      <i class=\"a-icon a-icon-alert\">\n",
            "      </i>\n",
            "      <h4>\n",
            "       Enter the characters you see below\n",
            "      </h4>\n",
            "      <p class=\"a-last\">\n",
            "       Sorry, we just need to make sure you're not a robot. For best results, please make sure your browser is accepting cookies.\n",
            "      </p>\n",
            "     </div>\n",
            "    </div>\n",
            "    <div class=\"a-section\">\n",
            "     <div class=\"a-box a-color-offset-background\">\n",
            "      <div class=\"a-box-inner a-padding-extra-large\">\n",
            "       <form action=\"/errors/validateCaptcha\" method=\"get\" name=\"\">\n",
            "        <input name=\"amzn\" type=\"hidden\" value=\"svdrWcwXlApFJfT7xaXFRw==\"/>\n",
            "        <input name=\"amzn-r\" type=\"hidden\" value=\"/Apple-iPhone-13-128GB-Starlight/product-reviews/B09G9D8KRQ/ref=cm_cr_dp_d_show_all_btm?ie=UTF8&amp;reviewerType=all_reviews\"/>\n",
            "        <div class=\"a-row a-spacing-large\">\n",
            "         <div class=\"a-box\">\n",
            "          <div class=\"a-box-inner\">\n",
            "           <h4>\n",
            "            Type the characters you see in this image:\n",
            "           </h4>\n",
            "           <!-- For automated access to price change or offer listing change events,\n",
            "                                             please refer to the MWS Subscription API:\n",
            "                                             https://developer.amazonservices.in/gp/mws/api.html/276-5247872-0590350?ie=UTF8&section=subscriptions&group=subscriptions&version=latest\n",
            "                                        -->\n",
            "           <div class=\"a-row a-text-center\">\n",
            "            <img src=\"https://images-na.ssl-images-amazon.com/captcha/nzwwotmg/Captcha_oktdsqimst.jpg\"/>\n",
            "           </div>\n",
            "           <div class=\"a-row a-spacing-base\">\n",
            "            <div class=\"a-row\">\n",
            "             <div class=\"a-column a-span6\">\n",
            "             </div>\n",
            "             <div class=\"a-column a-span6 a-span-last a-text-right\">\n",
            "              <a onclick=\"window.location.reload()\">\n",
            "               Try different image\n",
            "              </a>\n",
            "             </div>\n",
            "            </div>\n",
            "            <input autocapitalize=\"off\" autocomplete=\"off\" autocorrect=\"off\" class=\"a-span12\" id=\"captchacharacters\" name=\"field-keywords\" placeholder=\"Type characters\" spellcheck=\"false\" type=\"text\"/>\n",
            "           </div>\n",
            "          </div>\n",
            "         </div>\n",
            "        </div>\n",
            "        <div class=\"a-section a-spacing-extra-large\">\n",
            "         <div class=\"a-row\">\n",
            "          <span class=\"a-button a-button-primary a-span12\">\n",
            "           <span class=\"a-button-inner\">\n",
            "            <button class=\"a-button-text\" type=\"submit\">\n",
            "             Continue shopping\n",
            "            </button>\n",
            "           </span>\n",
            "          </span>\n",
            "         </div>\n",
            "        </div>\n",
            "       </form>\n",
            "      </div>\n",
            "     </div>\n",
            "    </div>\n",
            "   </div>\n",
            "   <div class=\"a-divider a-divider-section\">\n",
            "    <div class=\"a-divider-inner\">\n",
            "    </div>\n",
            "   </div>\n",
            "   <div class=\"a-text-center a-spacing-small a-size-mini\">\n",
            "    <a href=\"https://www.amazon.in/gp/help/customer/display.html/ref=footer_cou?ie=UTF8&amp;nodeId=200545940\">\n",
            "     Conditions of Use &amp; Sale\n",
            "    </a>\n",
            "    <span class=\"a-letter-space\">\n",
            "    </span>\n",
            "    <span class=\"a-letter-space\">\n",
            "    </span>\n",
            "    <span class=\"a-letter-space\">\n",
            "    </span>\n",
            "    <span class=\"a-letter-space\">\n",
            "    </span>\n",
            "    <a href=\"https://www.amazon.in/gp/help/customer/display.html/ref=footer_privacy?ie=UTF8&amp;nodeId=200534380\">\n",
            "     Privacy Notice\n",
            "    </a>\n",
            "   </div>\n",
            "   <div class=\"a-text-center a-size-mini a-color-secondary\">\n",
            "    © 1996-2015, Amazon.com, Inc. or its affiliates\n",
            "    <script>\n",
            "     if (true === true) {\n",
            "             document.write('<img src=\"https://fls-eu.amaz'+'on.in/'+'1/oc-csi/1/OP/requestId=6RPBFAGV2RFKMEN5MJKS&js=1\" />');\n",
            "           };\n",
            "    </script>\n",
            "    <noscript>\n",
            "     <img src=\"https://fls-eu.amazon.in/1/oc-csi/1/OP/requestId=6RPBFAGV2RFKMEN5MJKS&amp;js=0\">\n",
            "     </img>\n",
            "    </noscript>\n",
            "   </div>\n",
            "  </div>\n",
            "  <script>\n",
            "   if (true === true) {\n",
            "        var head = document.getElementsByTagName('head')[0],\n",
            "            prefix = \"https://images-eu.ssl-images-amazon.com/images/G/01/csminstrumentation/\",\n",
            "            elem = document.createElement(\"script\");\n",
            "        elem.src = prefix + \"csm-captcha-instrumentation.min.js\";\n",
            "        head.appendChild(elem);\n",
            "\n",
            "        elem = document.createElement(\"script\");\n",
            "        elem.src = prefix + \"rd-script-6d68177fa6061598e9509dc4b5bdd08d.js\";\n",
            "        head.appendChild(elem);\n",
            "    }\n",
            "  </script>\n",
            " </body>\n",
            "</html>\n",
            "\n"
          ]
        }
      ]
    },
    {
      "cell_type": "code",
      "metadata": {
        "colab": {
          "base_uri": "https://localhost:8080/"
        },
        "id": "-vz9-vqfmAot",
        "outputId": "837490fe-9a0e-4673-a74a-2012ae598df1"
      },
      "source": [
        "names = soup.select('span.a-profile-name')[2:]\n",
        "names"
      ],
      "execution_count": 4,
      "outputs": [
        {
          "output_type": "execute_result",
          "data": {
            "text/plain": [
              "[]"
            ]
          },
          "metadata": {},
          "execution_count": 4
        }
      ]
    },
    {
      "cell_type": "code",
      "metadata": {
        "colab": {
          "base_uri": "https://localhost:8080/"
        },
        "id": "ZQ7de7APm_J-",
        "outputId": "b95e5bb5-2ae1-4e7b-cd4b-fa7c1275bb4c"
      },
      "source": [
        "len(names)"
      ],
      "execution_count": 5,
      "outputs": [
        {
          "output_type": "execute_result",
          "data": {
            "text/plain": [
              "0"
            ]
          },
          "metadata": {},
          "execution_count": 5
        }
      ]
    },
    {
      "cell_type": "code",
      "metadata": {
        "colab": {
          "base_uri": "https://localhost:8080/"
        },
        "id": "z6Kc_O_LnZmI",
        "outputId": "a27fe4b1-c2d3-41a9-9509-b2e24db2b93e"
      },
      "source": [
        "titles = soup.select('a.review-title span')\n",
        "titles"
      ],
      "execution_count": 6,
      "outputs": [
        {
          "output_type": "execute_result",
          "data": {
            "text/plain": [
              "[]"
            ]
          },
          "metadata": {},
          "execution_count": 6
        }
      ]
    },
    {
      "cell_type": "code",
      "metadata": {
        "id": "DIVVIRbopS7z",
        "outputId": "9393f273-afd1-4c24-bc1b-2292af24e1ea",
        "colab": {
          "base_uri": "https://localhost:8080/"
        }
      },
      "source": [
        "len(titles)"
      ],
      "execution_count": 7,
      "outputs": [
        {
          "output_type": "execute_result",
          "data": {
            "text/plain": [
              "0"
            ]
          },
          "metadata": {},
          "execution_count": 7
        }
      ]
    },
    {
      "cell_type": "code",
      "metadata": {
        "colab": {
          "base_uri": "https://localhost:8080/"
        },
        "id": "suEmU1g9pUjS",
        "outputId": "7752c888-92c2-46d9-8b6e-d991b8eafd47"
      },
      "source": [
        "dates = soup.select('span.review-date')[2:]\n",
        "dates"
      ],
      "execution_count": 8,
      "outputs": [
        {
          "output_type": "execute_result",
          "data": {
            "text/plain": [
              "[]"
            ]
          },
          "metadata": {},
          "execution_count": 8
        }
      ]
    },
    {
      "cell_type": "code",
      "metadata": {
        "colab": {
          "base_uri": "https://localhost:8080/"
        },
        "id": "aeYgI90FqUtK",
        "outputId": "c28c7240-a107-4b4a-ff6f-c6b2deb88eee"
      },
      "source": [
        "len(dates)"
      ],
      "execution_count": 9,
      "outputs": [
        {
          "output_type": "execute_result",
          "data": {
            "text/plain": [
              "0"
            ]
          },
          "metadata": {},
          "execution_count": 9
        }
      ]
    },
    {
      "cell_type": "code",
      "metadata": {
        "id": "5jp3bAj2qWCG",
        "outputId": "786110be-c63c-45ba-bf71-0c57010be352",
        "colab": {
          "base_uri": "https://localhost:8080/"
        }
      },
      "source": [
        "stars = soup.select('i.review-rating span.a-icon-alt')[2:]\n",
        "stars"
      ],
      "execution_count": 10,
      "outputs": [
        {
          "output_type": "execute_result",
          "data": {
            "text/plain": [
              "[]"
            ]
          },
          "metadata": {},
          "execution_count": 10
        }
      ]
    },
    {
      "cell_type": "code",
      "metadata": {
        "id": "fw-Imgn4rImN",
        "outputId": "c9601a99-6275-47d2-85e2-9c8d4de862e0",
        "colab": {
          "base_uri": "https://localhost:8080/"
        }
      },
      "source": [
        "len(stars)"
      ],
      "execution_count": 11,
      "outputs": [
        {
          "output_type": "execute_result",
          "data": {
            "text/plain": [
              "0"
            ]
          },
          "metadata": {},
          "execution_count": 11
        }
      ]
    },
    {
      "cell_type": "code",
      "metadata": {
        "id": "TN6Oc3gqrMAG",
        "colab": {
          "base_uri": "https://localhost:8080/"
        },
        "outputId": "6bb8df6a-abf6-449d-8a58-80bf1e900b4a"
      },
      "source": [
        "reviews = soup.select('span.review-text-content span')\n",
        "reviews"
      ],
      "execution_count": 12,
      "outputs": [
        {
          "output_type": "execute_result",
          "data": {
            "text/plain": [
              "[]"
            ]
          },
          "metadata": {},
          "execution_count": 12
        }
      ]
    },
    {
      "cell_type": "code",
      "metadata": {
        "colab": {
          "base_uri": "https://localhost:8080/"
        },
        "id": "mJgeKf_9suLX",
        "outputId": "81d1aae1-0901-42a9-e642-de129ebfc23b"
      },
      "source": [
        "len(reviews)"
      ],
      "execution_count": 13,
      "outputs": [
        {
          "output_type": "execute_result",
          "data": {
            "text/plain": [
              "0"
            ]
          },
          "metadata": {},
          "execution_count": 13
        }
      ]
    },
    {
      "cell_type": "code",
      "metadata": {
        "id": "ss82acZWs0MO"
      },
      "source": [
        "cust_name = []\n",
        "rev_date = []\n",
        "ratings = []\n",
        "rev_title = []\n",
        "rev_content = []\n",
        "for i in range(len(names)):\n",
        "  cust_name.append(names[i].get_text())\n",
        "  rev_date.append(dates[i].get_text().replace(\"Reviewed in India on \",\"\"))\n",
        "  ratings.append(stars[i].get_text())\n",
        "  rev_title.append(titles[i].get_text())\n",
        "  rev_content.append(reviews[i].get_text().strip(\"\\n \"))"
      ],
      "execution_count": 14,
      "outputs": []
    },
    {
      "cell_type": "code",
      "metadata": {
        "id": "iFnzO03KwgHz",
        "outputId": "e4db80a1-4c51-43f0-9876-787b47b0010d",
        "colab": {
          "base_uri": "https://localhost:8080/"
        }
      },
      "source": [
        "rev_content"
      ],
      "execution_count": 15,
      "outputs": [
        {
          "output_type": "execute_result",
          "data": {
            "text/plain": [
              "[]"
            ]
          },
          "metadata": {},
          "execution_count": 15
        }
      ]
    },
    {
      "cell_type": "code",
      "metadata": {
        "id": "CSekc-3Awixo"
      },
      "source": [
        "import pandas as pd"
      ],
      "execution_count": 16,
      "outputs": []
    },
    {
      "cell_type": "code",
      "metadata": {
        "colab": {
          "base_uri": "https://localhost:8080/",
          "height": 49
        },
        "id": "8ircq7R3yVgg",
        "outputId": "6ffefa4d-e66d-4140-a079-f63599a976f2"
      },
      "source": [
        "df = pd.DataFrame()\n",
        "df['Customer Name'] = cust_name\n",
        "df['Date'] = rev_date\n",
        "df['Ratings'] = ratings\n",
        "df['Review Title'] = rev_title\n",
        "df['Reviews'] = rev_content\n",
        "df"
      ],
      "execution_count": 17,
      "outputs": [
        {
          "output_type": "execute_result",
          "data": {
            "text/plain": [
              "Empty DataFrame\n",
              "Columns: [Customer Name, Date, Ratings, Review Title, Reviews]\n",
              "Index: []"
            ],
            "text/html": [
              "\n",
              "  <div id=\"df-2326222e-0302-49dd-b292-e9c4e5fc0e27\">\n",
              "    <div class=\"colab-df-container\">\n",
              "      <div>\n",
              "<style scoped>\n",
              "    .dataframe tbody tr th:only-of-type {\n",
              "        vertical-align: middle;\n",
              "    }\n",
              "\n",
              "    .dataframe tbody tr th {\n",
              "        vertical-align: top;\n",
              "    }\n",
              "\n",
              "    .dataframe thead th {\n",
              "        text-align: right;\n",
              "    }\n",
              "</style>\n",
              "<table border=\"1\" class=\"dataframe\">\n",
              "  <thead>\n",
              "    <tr style=\"text-align: right;\">\n",
              "      <th></th>\n",
              "      <th>Customer Name</th>\n",
              "      <th>Date</th>\n",
              "      <th>Ratings</th>\n",
              "      <th>Review Title</th>\n",
              "      <th>Reviews</th>\n",
              "    </tr>\n",
              "  </thead>\n",
              "  <tbody>\n",
              "  </tbody>\n",
              "</table>\n",
              "</div>\n",
              "      <button class=\"colab-df-convert\" onclick=\"convertToInteractive('df-2326222e-0302-49dd-b292-e9c4e5fc0e27')\"\n",
              "              title=\"Convert this dataframe to an interactive table.\"\n",
              "              style=\"display:none;\">\n",
              "        \n",
              "  <svg xmlns=\"http://www.w3.org/2000/svg\" height=\"24px\"viewBox=\"0 0 24 24\"\n",
              "       width=\"24px\">\n",
              "    <path d=\"M0 0h24v24H0V0z\" fill=\"none\"/>\n",
              "    <path d=\"M18.56 5.44l.94 2.06.94-2.06 2.06-.94-2.06-.94-.94-2.06-.94 2.06-2.06.94zm-11 1L8.5 8.5l.94-2.06 2.06-.94-2.06-.94L8.5 2.5l-.94 2.06-2.06.94zm10 10l.94 2.06.94-2.06 2.06-.94-2.06-.94-.94-2.06-.94 2.06-2.06.94z\"/><path d=\"M17.41 7.96l-1.37-1.37c-.4-.4-.92-.59-1.43-.59-.52 0-1.04.2-1.43.59L10.3 9.45l-7.72 7.72c-.78.78-.78 2.05 0 2.83L4 21.41c.39.39.9.59 1.41.59.51 0 1.02-.2 1.41-.59l7.78-7.78 2.81-2.81c.8-.78.8-2.07 0-2.86zM5.41 20L4 18.59l7.72-7.72 1.47 1.35L5.41 20z\"/>\n",
              "  </svg>\n",
              "      </button>\n",
              "      \n",
              "  <style>\n",
              "    .colab-df-container {\n",
              "      display:flex;\n",
              "      flex-wrap:wrap;\n",
              "      gap: 12px;\n",
              "    }\n",
              "\n",
              "    .colab-df-convert {\n",
              "      background-color: #E8F0FE;\n",
              "      border: none;\n",
              "      border-radius: 50%;\n",
              "      cursor: pointer;\n",
              "      display: none;\n",
              "      fill: #1967D2;\n",
              "      height: 32px;\n",
              "      padding: 0 0 0 0;\n",
              "      width: 32px;\n",
              "    }\n",
              "\n",
              "    .colab-df-convert:hover {\n",
              "      background-color: #E2EBFA;\n",
              "      box-shadow: 0px 1px 2px rgba(60, 64, 67, 0.3), 0px 1px 3px 1px rgba(60, 64, 67, 0.15);\n",
              "      fill: #174EA6;\n",
              "    }\n",
              "\n",
              "    [theme=dark] .colab-df-convert {\n",
              "      background-color: #3B4455;\n",
              "      fill: #D2E3FC;\n",
              "    }\n",
              "\n",
              "    [theme=dark] .colab-df-convert:hover {\n",
              "      background-color: #434B5C;\n",
              "      box-shadow: 0px 1px 3px 1px rgba(0, 0, 0, 0.15);\n",
              "      filter: drop-shadow(0px 1px 2px rgba(0, 0, 0, 0.3));\n",
              "      fill: #FFFFFF;\n",
              "    }\n",
              "  </style>\n",
              "\n",
              "      <script>\n",
              "        const buttonEl =\n",
              "          document.querySelector('#df-2326222e-0302-49dd-b292-e9c4e5fc0e27 button.colab-df-convert');\n",
              "        buttonEl.style.display =\n",
              "          google.colab.kernel.accessAllowed ? 'block' : 'none';\n",
              "\n",
              "        async function convertToInteractive(key) {\n",
              "          const element = document.querySelector('#df-2326222e-0302-49dd-b292-e9c4e5fc0e27');\n",
              "          const dataTable =\n",
              "            await google.colab.kernel.invokeFunction('convertToInteractive',\n",
              "                                                     [key], {});\n",
              "          if (!dataTable) return;\n",
              "\n",
              "          const docLinkHtml = 'Like what you see? Visit the ' +\n",
              "            '<a target=\"_blank\" href=https://colab.research.google.com/notebooks/data_table.ipynb>data table notebook</a>'\n",
              "            + ' to learn more about interactive tables.';\n",
              "          element.innerHTML = '';\n",
              "          dataTable['output_type'] = 'display_data';\n",
              "          await google.colab.output.renderOutput(dataTable, element);\n",
              "          const docLink = document.createElement('div');\n",
              "          docLink.innerHTML = docLinkHtml;\n",
              "          element.appendChild(docLink);\n",
              "        }\n",
              "      </script>\n",
              "    </div>\n",
              "  </div>\n",
              "  "
            ]
          },
          "metadata": {},
          "execution_count": 17
        }
      ]
    },
    {
      "cell_type": "code",
      "metadata": {
        "id": "KLdJfztzyZMA"
      },
      "source": [
        "df.to_csv(\"amazon.csv\")"
      ],
      "execution_count": 18,
      "outputs": []
    },
    {
      "cell_type": "code",
      "metadata": {
        "id": "gYcecvWbzWQc"
      },
      "source": [
        "cust_name = []\n",
        "rev_date = []\n",
        "ratings = []\n",
        "rev_title = []\n",
        "rev_content = []\n",
        "for page in range(1,35):\n",
        "  url = \"https://www.amazon.in/Apple-iPhone-13-128GB-Starlight/product-reviews/B09G9D8KRQ/ref=cm_cr_dp_d_show_all_btm?ie=UTF8&reviewerType=all_reviews\"+str(page)\n",
        "  code = requests.get(url)\n",
        "  if str(code) == \"<Response [200]>\":\n",
        "    soup = BeautifulSoup(code.content,'html.parser')\n",
        "    names = soup.select('span.a-profile-name')[2:]\n",
        "    titles = soup.select('a.review-title span')\n",
        "    dates = soup.select('span.review-date')[2:]\n",
        "    stars = soup.select('i.review-rating span.a-icon-alt')[2:]\n",
        "    reviews = soup.select('span.review-text-content span')\n",
        "    for i in range(len(names)):\n",
        "      cust_name.append(names[i].get_text())\n",
        "      rev_date.append(dates[i].get_text().replace(\"Reviewed in India on \",\"\"))\n",
        "      ratings.append(stars[i].get_text())\n",
        "      rev_title.append(titles[i].get_text())\n",
        "      rev_content.append(reviews[i].get_text().strip(\"\\n \"))"
      ],
      "execution_count": 19,
      "outputs": []
    },
    {
      "cell_type": "code",
      "metadata": {
        "id": "ufLEK3Oi36y-",
        "outputId": "e2a7e539-5a6e-4026-a643-b2d4e56229ad",
        "colab": {
          "base_uri": "https://localhost:8080/"
        }
      },
      "source": [
        "str(code) == \"<Response [200]>\""
      ],
      "execution_count": 20,
      "outputs": [
        {
          "output_type": "execute_result",
          "data": {
            "text/plain": [
              "False"
            ]
          },
          "metadata": {},
          "execution_count": 20
        }
      ]
    },
    {
      "cell_type": "code",
      "metadata": {
        "colab": {
          "base_uri": "https://localhost:8080/",
          "height": 641
        },
        "id": "rVgyQHvf3b3x",
        "outputId": "bca5c701-7c2c-48dd-9d71-91b1960cbe2f"
      },
      "source": [
        "df = pd.DataFrame()\n",
        "df['Customer Name'] = cust_name\n",
        "df['Date'] = rev_date\n",
        "df['Ratings'] = ratings\n",
        "df['Review Title'] = rev_title\n",
        "df['Reviews'] = rev_content\n",
        "df"
      ],
      "execution_count": 21,
      "outputs": [
        {
          "output_type": "execute_result",
          "data": {
            "text/plain": [
              "          Customer Name                                       Date  \\\n",
              "0          Smitesh Mali     Reviewed in India 🇮🇳 on 8 October 2022   \n",
              "1        Bheraram Saran    Reviewed in India 🇮🇳 on 6 November 2022   \n",
              "2           kuruvapavan    Reviewed in India 🇮🇳 on 18 October 2022   \n",
              "3       Amazon Customer     Reviewed in India 🇮🇳 on 12 August 2022   \n",
              "4          Henry Longri  Reviewed in India 🇮🇳 on 19 September 2022   \n",
              "..                  ...                                        ...   \n",
              "145        Qazi shahvez    Reviewed in India 🇮🇳 on 16 October 2022   \n",
              "146                Noel        Reviewed in India 🇮🇳 on 13 May 2022   \n",
              "147  Siddhesh kalyankar    Reviewed in India 🇮🇳 on 10 October 2022   \n",
              "148       SHANKAR SINGH     Reviewed in India 🇮🇳 on 21 August 2022   \n",
              "149             Aditya      Reviewed in India 🇮🇳 on 23 August 2022   \n",
              "\n",
              "                Ratings                          Review Title  \\\n",
              "0    4.0 out of 5 stars              Lives up to expectations   \n",
              "1    5.0 out of 5 stars                           Videography   \n",
              "2    5.0 out of 5 stars                    iPhone is iPhone..   \n",
              "3    4.0 out of 5 stars          Very Bad Software Experience   \n",
              "4    4.0 out of 5 stars                           Great phone   \n",
              "..                  ...                                   ...   \n",
              "145  5.0 out of 5 stars            Nothinh to say its a brand   \n",
              "146  4.0 out of 5 stars  It's a premium for the right reasons   \n",
              "147  5.0 out of 5 stars                    Best Mobile Ever🔥💯   \n",
              "148  4.0 out of 5 stars  No more sharing options like Android   \n",
              "149  5.0 out of 5 stars                           Value Phone   \n",
              "\n",
              "                                               Reviews  \n",
              "0    I have switched from one plus 5 to iPhone and ...  \n",
              "1                                 Great Cinematic Mode  \n",
              "2    No detailed review is needed.. everyone knows ...  \n",
              "3    Guys, the software experience is very bad for ...  \n",
              "4                                        Awesome phone  \n",
              "..                                                 ...  \n",
              "145                                     Apple is aplle  \n",
              "146  Let's start with the negative feedback here on...  \n",
              "147                                                     \n",
              "148                     The media could not be loaded.  \n",
              "149   Fantastic mobile I will Used it And I feel it...  \n",
              "\n",
              "[150 rows x 5 columns]"
            ],
            "text/html": [
              "\n",
              "  <div id=\"df-e9e66c4b-037d-4ae5-affe-18ecc50fe011\">\n",
              "    <div class=\"colab-df-container\">\n",
              "      <div>\n",
              "<style scoped>\n",
              "    .dataframe tbody tr th:only-of-type {\n",
              "        vertical-align: middle;\n",
              "    }\n",
              "\n",
              "    .dataframe tbody tr th {\n",
              "        vertical-align: top;\n",
              "    }\n",
              "\n",
              "    .dataframe thead th {\n",
              "        text-align: right;\n",
              "    }\n",
              "</style>\n",
              "<table border=\"1\" class=\"dataframe\">\n",
              "  <thead>\n",
              "    <tr style=\"text-align: right;\">\n",
              "      <th></th>\n",
              "      <th>Customer Name</th>\n",
              "      <th>Date</th>\n",
              "      <th>Ratings</th>\n",
              "      <th>Review Title</th>\n",
              "      <th>Reviews</th>\n",
              "    </tr>\n",
              "  </thead>\n",
              "  <tbody>\n",
              "    <tr>\n",
              "      <th>0</th>\n",
              "      <td>Smitesh Mali</td>\n",
              "      <td>Reviewed in India 🇮🇳 on 8 October 2022</td>\n",
              "      <td>4.0 out of 5 stars</td>\n",
              "      <td>Lives up to expectations</td>\n",
              "      <td>I have switched from one plus 5 to iPhone and ...</td>\n",
              "    </tr>\n",
              "    <tr>\n",
              "      <th>1</th>\n",
              "      <td>Bheraram Saran</td>\n",
              "      <td>Reviewed in India 🇮🇳 on 6 November 2022</td>\n",
              "      <td>5.0 out of 5 stars</td>\n",
              "      <td>Videography</td>\n",
              "      <td>Great Cinematic Mode</td>\n",
              "    </tr>\n",
              "    <tr>\n",
              "      <th>2</th>\n",
              "      <td>kuruvapavan</td>\n",
              "      <td>Reviewed in India 🇮🇳 on 18 October 2022</td>\n",
              "      <td>5.0 out of 5 stars</td>\n",
              "      <td>iPhone is iPhone..</td>\n",
              "      <td>No detailed review is needed.. everyone knows ...</td>\n",
              "    </tr>\n",
              "    <tr>\n",
              "      <th>3</th>\n",
              "      <td>Amazon Customer</td>\n",
              "      <td>Reviewed in India 🇮🇳 on 12 August 2022</td>\n",
              "      <td>4.0 out of 5 stars</td>\n",
              "      <td>Very Bad Software Experience</td>\n",
              "      <td>Guys, the software experience is very bad for ...</td>\n",
              "    </tr>\n",
              "    <tr>\n",
              "      <th>4</th>\n",
              "      <td>Henry Longri</td>\n",
              "      <td>Reviewed in India 🇮🇳 on 19 September 2022</td>\n",
              "      <td>4.0 out of 5 stars</td>\n",
              "      <td>Great phone</td>\n",
              "      <td>Awesome phone</td>\n",
              "    </tr>\n",
              "    <tr>\n",
              "      <th>...</th>\n",
              "      <td>...</td>\n",
              "      <td>...</td>\n",
              "      <td>...</td>\n",
              "      <td>...</td>\n",
              "      <td>...</td>\n",
              "    </tr>\n",
              "    <tr>\n",
              "      <th>145</th>\n",
              "      <td>Qazi shahvez</td>\n",
              "      <td>Reviewed in India 🇮🇳 on 16 October 2022</td>\n",
              "      <td>5.0 out of 5 stars</td>\n",
              "      <td>Nothinh to say its a brand</td>\n",
              "      <td>Apple is aplle</td>\n",
              "    </tr>\n",
              "    <tr>\n",
              "      <th>146</th>\n",
              "      <td>Noel</td>\n",
              "      <td>Reviewed in India 🇮🇳 on 13 May 2022</td>\n",
              "      <td>4.0 out of 5 stars</td>\n",
              "      <td>It's a premium for the right reasons</td>\n",
              "      <td>Let's start with the negative feedback here on...</td>\n",
              "    </tr>\n",
              "    <tr>\n",
              "      <th>147</th>\n",
              "      <td>Siddhesh kalyankar</td>\n",
              "      <td>Reviewed in India 🇮🇳 on 10 October 2022</td>\n",
              "      <td>5.0 out of 5 stars</td>\n",
              "      <td>Best Mobile Ever🔥💯</td>\n",
              "      <td></td>\n",
              "    </tr>\n",
              "    <tr>\n",
              "      <th>148</th>\n",
              "      <td>SHANKAR SINGH</td>\n",
              "      <td>Reviewed in India 🇮🇳 on 21 August 2022</td>\n",
              "      <td>4.0 out of 5 stars</td>\n",
              "      <td>No more sharing options like Android</td>\n",
              "      <td>The media could not be loaded.</td>\n",
              "    </tr>\n",
              "    <tr>\n",
              "      <th>149</th>\n",
              "      <td>Aditya</td>\n",
              "      <td>Reviewed in India 🇮🇳 on 23 August 2022</td>\n",
              "      <td>5.0 out of 5 stars</td>\n",
              "      <td>Value Phone</td>\n",
              "      <td>Fantastic mobile I will Used it And I feel it...</td>\n",
              "    </tr>\n",
              "  </tbody>\n",
              "</table>\n",
              "<p>150 rows × 5 columns</p>\n",
              "</div>\n",
              "      <button class=\"colab-df-convert\" onclick=\"convertToInteractive('df-e9e66c4b-037d-4ae5-affe-18ecc50fe011')\"\n",
              "              title=\"Convert this dataframe to an interactive table.\"\n",
              "              style=\"display:none;\">\n",
              "        \n",
              "  <svg xmlns=\"http://www.w3.org/2000/svg\" height=\"24px\"viewBox=\"0 0 24 24\"\n",
              "       width=\"24px\">\n",
              "    <path d=\"M0 0h24v24H0V0z\" fill=\"none\"/>\n",
              "    <path d=\"M18.56 5.44l.94 2.06.94-2.06 2.06-.94-2.06-.94-.94-2.06-.94 2.06-2.06.94zm-11 1L8.5 8.5l.94-2.06 2.06-.94-2.06-.94L8.5 2.5l-.94 2.06-2.06.94zm10 10l.94 2.06.94-2.06 2.06-.94-2.06-.94-.94-2.06-.94 2.06-2.06.94z\"/><path d=\"M17.41 7.96l-1.37-1.37c-.4-.4-.92-.59-1.43-.59-.52 0-1.04.2-1.43.59L10.3 9.45l-7.72 7.72c-.78.78-.78 2.05 0 2.83L4 21.41c.39.39.9.59 1.41.59.51 0 1.02-.2 1.41-.59l7.78-7.78 2.81-2.81c.8-.78.8-2.07 0-2.86zM5.41 20L4 18.59l7.72-7.72 1.47 1.35L5.41 20z\"/>\n",
              "  </svg>\n",
              "      </button>\n",
              "      \n",
              "  <style>\n",
              "    .colab-df-container {\n",
              "      display:flex;\n",
              "      flex-wrap:wrap;\n",
              "      gap: 12px;\n",
              "    }\n",
              "\n",
              "    .colab-df-convert {\n",
              "      background-color: #E8F0FE;\n",
              "      border: none;\n",
              "      border-radius: 50%;\n",
              "      cursor: pointer;\n",
              "      display: none;\n",
              "      fill: #1967D2;\n",
              "      height: 32px;\n",
              "      padding: 0 0 0 0;\n",
              "      width: 32px;\n",
              "    }\n",
              "\n",
              "    .colab-df-convert:hover {\n",
              "      background-color: #E2EBFA;\n",
              "      box-shadow: 0px 1px 2px rgba(60, 64, 67, 0.3), 0px 1px 3px 1px rgba(60, 64, 67, 0.15);\n",
              "      fill: #174EA6;\n",
              "    }\n",
              "\n",
              "    [theme=dark] .colab-df-convert {\n",
              "      background-color: #3B4455;\n",
              "      fill: #D2E3FC;\n",
              "    }\n",
              "\n",
              "    [theme=dark] .colab-df-convert:hover {\n",
              "      background-color: #434B5C;\n",
              "      box-shadow: 0px 1px 3px 1px rgba(0, 0, 0, 0.15);\n",
              "      filter: drop-shadow(0px 1px 2px rgba(0, 0, 0, 0.3));\n",
              "      fill: #FFFFFF;\n",
              "    }\n",
              "  </style>\n",
              "\n",
              "      <script>\n",
              "        const buttonEl =\n",
              "          document.querySelector('#df-e9e66c4b-037d-4ae5-affe-18ecc50fe011 button.colab-df-convert');\n",
              "        buttonEl.style.display =\n",
              "          google.colab.kernel.accessAllowed ? 'block' : 'none';\n",
              "\n",
              "        async function convertToInteractive(key) {\n",
              "          const element = document.querySelector('#df-e9e66c4b-037d-4ae5-affe-18ecc50fe011');\n",
              "          const dataTable =\n",
              "            await google.colab.kernel.invokeFunction('convertToInteractive',\n",
              "                                                     [key], {});\n",
              "          if (!dataTable) return;\n",
              "\n",
              "          const docLinkHtml = 'Like what you see? Visit the ' +\n",
              "            '<a target=\"_blank\" href=https://colab.research.google.com/notebooks/data_table.ipynb>data table notebook</a>'\n",
              "            + ' to learn more about interactive tables.';\n",
              "          element.innerHTML = '';\n",
              "          dataTable['output_type'] = 'display_data';\n",
              "          await google.colab.output.renderOutput(dataTable, element);\n",
              "          const docLink = document.createElement('div');\n",
              "          docLink.innerHTML = docLinkHtml;\n",
              "          element.appendChild(docLink);\n",
              "        }\n",
              "      </script>\n",
              "    </div>\n",
              "  </div>\n",
              "  "
            ]
          },
          "metadata": {},
          "execution_count": 21
        }
      ]
    }
  ]
}